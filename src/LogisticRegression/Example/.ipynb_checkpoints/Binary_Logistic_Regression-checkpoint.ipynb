{
 "cells": [
  {
   "cell_type": "markdown",
   "id": "intermediate-impact",
   "metadata": {},
   "source": [
    "# Binary Logistic regression\n",
    "\n",
    " In our case, the probability $p_i$ of individual $i$ being classified as *yes* is, \n",
    "\t\t       \\begin{equation}\n",
    "\t\t           p_i = \\mathbb{P}\\Big( 1 \\vert \\beta, x_i \\Big) = \\dfrac{1}{1 + e^{-\\beta^T x_i}} \\quad \\text{and} \\quad 1 - p_i = \\dfrac{e^{-\\beta^T x_i}}{1 + e^{-\\beta^T x_i}}.\n",
    "\t\t           \\label{eq: Linear Logit probabilities}\n",
    "\t\t       \\end{equation}\n",
    "\n",
    "The objective function is expressed with the cross-entropy as follows            \n",
    "            \\begin{align}\n",
    "\t\t           f(\\beta) & = \\dfrac{1}{N} \\sum_{n=1}^{N}  f_n(\\beta) \\\\\n",
    "                            & = - \\dfrac{1}{N} \\sum_{n=1}^{N} y_n\\log\\Big( \\mathbb{P}(1 \\vert \\beta, x_n) \\Big) + (1 - y_n)\\log\\Big( \\mathbb{P}(0 \\vert \\beta , x_n) \\Big) \\\\\n",
    "                            & = - \\dfrac{1}{N} \\sum_{n=1}^{N} y_n\\log\\Big( p_n \\Big) + (1 - y_n)\\log\\Big( 1 - p_n \\Big)\n",
    "\t\t           \\label{eq: Logit objective function}\n",
    "\t\t       \\end{align}\n",
    "\t\t       where $y_{n} = 1$  if individual $n$ is classified *yes*, and $0$ otherwise, and $N$ is the dataset size.\n",
    "               \n",
    "Let's denote, the **individual loss**, \n",
    "$$ f_n(\\beta) = - y_n\\log\\Big( p_n \\Big) - (1 - y_n)\\log\\Big( 1 - p_n \\Big)$$\n",
    "So, the **gradient** is\n",
    "$$ \\nabla f_n(\\beta) = (p_n - y_n)x_n \\qquad \\text{and} \\qquad \\nabla f(\\beta) = \\dfrac{1}{N} \\sum_{n=1}^{N} (p_n - y_n) x_n$$\n",
    "And, the **Hessian**, \n",
    "$$ \\nabla^2 f(\\beta) = \\dfrac{1}{N} \\sum_{n=1}^{N} p_n(1-p_n)x_n x_n^T $$\n",
    "\n",
    "### In matrix form\n",
    "\n",
    "Let's have,\n",
    " - $X = \\Big( x_1 \\vert \\cdots \\vert x_N  \\Big) \\in \\mathbb{R}^{N \\times p}$ is feature matrix, \n",
    " - $ Y = \\Big( y_1 \\vert \\cdots \\vert y_N  \\Big) \\in \\mathbb{R}^{N \\times 1}$ is the target vector\n",
    " - $ P = \\Big( p_1 \\vert \\cdots \\vert p_N  \\Big) \\in \\mathbb{R}^{N \\times 1}$ is the probability vector\n",
    " \n",
    "Therefore, \n",
    "\\begin{align}\n",
    "        P &= \\dfrac{1}{1 + \\exp.(-X\\cdot \\beta)} \\\\\n",
    "    f(\\beta) &= -\\dfrac{1}{N} \\Big( Y^T \\ln(P) + (1 - Y)^Y\\ln(1 - P) \\Big) \\\\\n",
    "    \\nabla f(\\beta) &= \\dfrac{1}{N} \\big( P - Y \\big)^Y X \\\\\n",
    "    \\nabla^2 f(\\beta) &= \\dfrac{1}{N} X \\text{Diag}\\big( P \\odot (1-P) \\big) X^T \\; (\\text{it is positive semi-definite -- good})\n",
    "\\end{align}\n",
    "where $\\odot$ is the element-wise multiplication."
   ]
  },
  {
   "cell_type": "code",
   "execution_count": 27,
   "id": "traditional-traffic",
   "metadata": {},
   "outputs": [
    {
     "data": {
      "text/plain": [
       "Plots.PlotlyBackend()"
      ]
     },
     "execution_count": 27,
     "metadata": {},
     "output_type": "execute_result"
    }
   ],
   "source": [
    "# for algebra\n",
    "using LinearAlgebra, ForwardDiff\n",
    "\n",
    "# For probability\n",
    "using Random, Distributions\n",
    "\n",
    "# For statistics\n",
    "using OnlineStats, StatsBase, Statistics\n",
    "\n",
    "# Data import \n",
    "using ZipFile, \n",
    "      CSV # use version 0.8.5\n",
    "\n",
    "# for data processing\n",
    "using DataFrames, CategoricalArrays\n",
    "        \n",
    "# Dysplay\n",
    "using Plots\n",
    "pyplot()\n",
    "\n",
    "# For regression models\n",
    "using Flux, GLM\n",
    "\n",
    "# Import sklearn.metrics to julia\n",
    "using PyCall\n",
    "sklearn = pyimport(\"sklearn.metrics\")\n",
    "\n",
    "using Sofia, Geraldine\n",
    "\n",
    "# Backend\n",
    "plotly()"
   ]
  },
  {
   "cell_type": "code",
   "execution_count": 28,
   "id": "operating-gregory",
   "metadata": {},
   "outputs": [
    {
     "data": {
      "text/html": [
       "<div class=\"data-frame\"><p>17 rows × 7 columns</p><table class=\"data-frame\"><thead><tr><th></th><th>variable</th><th>mean</th><th>min</th><th>median</th><th>max</th><th>nmissing</th><th>eltype</th></tr><tr><th></th><th title=\"Symbol\">Symbol</th><th title=\"Union{Nothing, Float64}\">Union…</th><th title=\"Any\">Any</th><th title=\"Union{Nothing, Float64}\">Union…</th><th title=\"Any\">Any</th><th title=\"Int64\">Int64</th><th title=\"DataType\">DataType</th></tr></thead><tbody><tr><th>1</th><td>age</td><td>40.9362</td><td>18</td><td>39.0</td><td>95</td><td>0</td><td>Int64</td></tr><tr><th>2</th><td>job</td><td></td><td>admin.</td><td></td><td>unknown</td><td>0</td><td>String15</td></tr><tr><th>3</th><td>marital</td><td></td><td>divorced</td><td></td><td>single</td><td>0</td><td>String15</td></tr><tr><th>4</th><td>education</td><td></td><td>primary</td><td></td><td>unknown</td><td>0</td><td>String15</td></tr><tr><th>5</th><td>default</td><td></td><td>no</td><td></td><td>yes</td><td>0</td><td>String3</td></tr><tr><th>6</th><td>balance</td><td>1362.27</td><td>-8019</td><td>448.0</td><td>102127</td><td>0</td><td>Int64</td></tr><tr><th>7</th><td>housing</td><td></td><td>no</td><td></td><td>yes</td><td>0</td><td>String3</td></tr><tr><th>8</th><td>loan</td><td></td><td>no</td><td></td><td>yes</td><td>0</td><td>String3</td></tr><tr><th>9</th><td>contact</td><td></td><td>cellular</td><td></td><td>unknown</td><td>0</td><td>String15</td></tr><tr><th>10</th><td>day</td><td>15.8064</td><td>1</td><td>16.0</td><td>31</td><td>0</td><td>Int64</td></tr><tr><th>11</th><td>month</td><td></td><td>apr</td><td></td><td>sep</td><td>0</td><td>String3</td></tr><tr><th>12</th><td>duration</td><td>258.163</td><td>0</td><td>180.0</td><td>4918</td><td>0</td><td>Int64</td></tr><tr><th>13</th><td>campaign</td><td>2.76384</td><td>1</td><td>2.0</td><td>63</td><td>0</td><td>Int64</td></tr><tr><th>14</th><td>pdays</td><td>40.1978</td><td>-1</td><td>-1.0</td><td>871</td><td>0</td><td>Int64</td></tr><tr><th>15</th><td>previous</td><td>0.580323</td><td>0</td><td>0.0</td><td>275</td><td>0</td><td>Int64</td></tr><tr><th>16</th><td>poutcome</td><td></td><td>failure</td><td></td><td>unknown</td><td>0</td><td>String7</td></tr><tr><th>17</th><td>y</td><td></td><td>no</td><td></td><td>yes</td><td>0</td><td>String3</td></tr></tbody></table></div>"
      ],
      "text/latex": [
       "\\begin{tabular}{r|ccccccc}\n",
       "\t& variable & mean & min & median & max & nmissing & eltype\\\\\n",
       "\t\\hline\n",
       "\t& Symbol & Union… & Any & Union… & Any & Int64 & DataType\\\\\n",
       "\t\\hline\n",
       "\t1 & age & 40.9362 & 18 & 39.0 & 95 & 0 & Int64 \\\\\n",
       "\t2 & job &  & admin. &  & unknown & 0 & String15 \\\\\n",
       "\t3 & marital &  & divorced &  & single & 0 & String15 \\\\\n",
       "\t4 & education &  & primary &  & unknown & 0 & String15 \\\\\n",
       "\t5 & default &  & no &  & yes & 0 & String3 \\\\\n",
       "\t6 & balance & 1362.27 & -8019 & 448.0 & 102127 & 0 & Int64 \\\\\n",
       "\t7 & housing &  & no &  & yes & 0 & String3 \\\\\n",
       "\t8 & loan &  & no &  & yes & 0 & String3 \\\\\n",
       "\t9 & contact &  & cellular &  & unknown & 0 & String15 \\\\\n",
       "\t10 & day & 15.8064 & 1 & 16.0 & 31 & 0 & Int64 \\\\\n",
       "\t11 & month &  & apr &  & sep & 0 & String3 \\\\\n",
       "\t12 & duration & 258.163 & 0 & 180.0 & 4918 & 0 & Int64 \\\\\n",
       "\t13 & campaign & 2.76384 & 1 & 2.0 & 63 & 0 & Int64 \\\\\n",
       "\t14 & pdays & 40.1978 & -1 & -1.0 & 871 & 0 & Int64 \\\\\n",
       "\t15 & previous & 0.580323 & 0 & 0.0 & 275 & 0 & Int64 \\\\\n",
       "\t16 & poutcome &  & failure &  & unknown & 0 & String7 \\\\\n",
       "\t17 & y &  & no &  & yes & 0 & String3 \\\\\n",
       "\\end{tabular}\n"
      ],
      "text/plain": [
       "\u001b[1m17×7 DataFrame\u001b[0m\n",
       "\u001b[1m Row \u001b[0m│\u001b[1m variable  \u001b[0m\u001b[1m mean     \u001b[0m\u001b[1m min      \u001b[0m\u001b[1m median \u001b[0m\u001b[1m max     \u001b[0m\u001b[1m nmissing \u001b[0m\u001b[1m eltype   \u001b[0m\n",
       "\u001b[1m     \u001b[0m│\u001b[90m Symbol    \u001b[0m\u001b[90m Union…   \u001b[0m\u001b[90m Any      \u001b[0m\u001b[90m Union… \u001b[0m\u001b[90m Any     \u001b[0m\u001b[90m Int64    \u001b[0m\u001b[90m DataType \u001b[0m\n",
       "─────┼────────────────────────────────────────────────────────────────────\n",
       "   1 │ age        40.9362   18        39.0    95              0  Int64\n",
       "   2 │ job       \u001b[90m          \u001b[0m admin.   \u001b[90m        \u001b[0m unknown         0  String15\n",
       "   3 │ marital   \u001b[90m          \u001b[0m divorced \u001b[90m        \u001b[0m single          0  String15\n",
       "   4 │ education \u001b[90m          \u001b[0m primary  \u001b[90m        \u001b[0m unknown         0  String15\n",
       "   5 │ default   \u001b[90m          \u001b[0m no       \u001b[90m        \u001b[0m yes             0  String3\n",
       "   6 │ balance    1362.27   -8019     448.0   102127          0  Int64\n",
       "   7 │ housing   \u001b[90m          \u001b[0m no       \u001b[90m        \u001b[0m yes             0  String3\n",
       "   8 │ loan      \u001b[90m          \u001b[0m no       \u001b[90m        \u001b[0m yes             0  String3\n",
       "   9 │ contact   \u001b[90m          \u001b[0m cellular \u001b[90m        \u001b[0m unknown         0  String15\n",
       "  10 │ day        15.8064   1         16.0    31              0  Int64\n",
       "  11 │ month     \u001b[90m          \u001b[0m apr      \u001b[90m        \u001b[0m sep             0  String3\n",
       "  12 │ duration   258.163   0         180.0   4918            0  Int64\n",
       "  13 │ campaign   2.76384   1         2.0     63              0  Int64\n",
       "  14 │ pdays      40.1978   -1        -1.0    871             0  Int64\n",
       "  15 │ previous   0.580323  0         0.0     275             0  Int64\n",
       "  16 │ poutcome  \u001b[90m          \u001b[0m failure  \u001b[90m        \u001b[0m unknown         0  String7\n",
       "  17 │ y         \u001b[90m          \u001b[0m no       \u001b[90m        \u001b[0m yes             0  String3"
      ]
     },
     "execution_count": 28,
     "metadata": {},
     "output_type": "execute_result"
    }
   ],
   "source": [
    "# read file from zip archive\n",
    "bank_folder = ZipFile.Reader(\"bank.zip\")\n",
    "\n",
    "# identify the right file in zip\n",
    "bank_full_csv = filter(x->x.name == \"bank-full.csv\", bank_folder.files)[1]\n",
    "\n",
    "bank_full = CSV.File(bank_full_csv) |> DataFrame\n",
    "\n",
    "close(bank_folder)\n",
    "\n",
    "describe(bank_full)"
   ]
  },
  {
   "cell_type": "code",
   "execution_count": 29,
   "id": "intense-johnston",
   "metadata": {},
   "outputs": [
    {
     "data": {
      "text/html": [
       "<div class=\"data-frame\"><p>42 rows × 7 columns</p><table class=\"data-frame\"><thead><tr><th></th><th>variable</th><th>mean</th><th>min</th><th>median</th><th>max</th><th>nmissing</th><th>eltype</th></tr><tr><th></th><th title=\"Symbol\">Symbol</th><th title=\"Float64\">Float64</th><th title=\"Integer\">Integer</th><th title=\"Float64\">Float64</th><th title=\"Integer\">Integer</th><th title=\"Int64\">Int64</th><th title=\"DataType\">DataType</th></tr></thead><tbody><tr><th>1</th><td>age</td><td>40.9362</td><td>18</td><td>39.0</td><td>95</td><td>0</td><td>Int64</td></tr><tr><th>2</th><td>balance</td><td>1362.27</td><td>-8019</td><td>448.0</td><td>102127</td><td>0</td><td>Int64</td></tr><tr><th>3</th><td>day</td><td>15.8064</td><td>1</td><td>16.0</td><td>31</td><td>0</td><td>Int64</td></tr><tr><th>4</th><td>campaign</td><td>2.76384</td><td>1</td><td>2.0</td><td>63</td><td>0</td><td>Int64</td></tr><tr><th>5</th><td>pdays</td><td>40.1978</td><td>-1</td><td>-1.0</td><td>871</td><td>0</td><td>Int64</td></tr><tr><th>6</th><td>previous</td><td>0.580323</td><td>0</td><td>0.0</td><td>275</td><td>0</td><td>Int64</td></tr><tr><th>7</th><td>y</td><td>0.116985</td><td>0</td><td>0.0</td><td>1</td><td>0</td><td>Bool</td></tr><tr><th>8</th><td>job_management</td><td>0.209197</td><td>0</td><td>0.0</td><td>1</td><td>0</td><td>Bool</td></tr><tr><th>9</th><td>job_technician</td><td>0.168034</td><td>0</td><td>0.0</td><td>1</td><td>0</td><td>Bool</td></tr><tr><th>10</th><td>job_entrepreneur</td><td>0.0328902</td><td>0</td><td>0.0</td><td>1</td><td>0</td><td>Bool</td></tr><tr><th>11</th><td>job_blue_collar</td><td>0.215257</td><td>0</td><td>0.0</td><td>1</td><td>0</td><td>Bool</td></tr><tr><th>12</th><td>job_unknown</td><td>0.00637013</td><td>0</td><td>0.0</td><td>1</td><td>0</td><td>Bool</td></tr><tr><th>13</th><td>job_retired</td><td>0.0500763</td><td>0</td><td>0.0</td><td>1</td><td>0</td><td>Bool</td></tr><tr><th>14</th><td>job_admin</td><td>0.114375</td><td>0</td><td>0.0</td><td>1</td><td>0</td><td>Bool</td></tr><tr><th>15</th><td>job_services</td><td>0.0918803</td><td>0</td><td>0.0</td><td>1</td><td>0</td><td>Bool</td></tr><tr><th>16</th><td>job_self_employed</td><td>0.0349251</td><td>0</td><td>0.0</td><td>1</td><td>0</td><td>Bool</td></tr><tr><th>17</th><td>job_unemployed</td><td>0.0288204</td><td>0</td><td>0.0</td><td>1</td><td>0</td><td>Bool</td></tr><tr><th>18</th><td>job_housemaid</td><td>0.027427</td><td>0</td><td>0.0</td><td>1</td><td>0</td><td>Bool</td></tr><tr><th>19</th><td>marital_married</td><td>0.601933</td><td>0</td><td>1.0</td><td>1</td><td>0</td><td>Bool</td></tr><tr><th>20</th><td>marital_single</td><td>0.282896</td><td>0</td><td>0.0</td><td>1</td><td>0</td><td>Bool</td></tr><tr><th>21</th><td>education_tertiary</td><td>0.294198</td><td>0</td><td>0.0</td><td>1</td><td>0</td><td>Bool</td></tr><tr><th>22</th><td>education_secondary</td><td>0.513194</td><td>0</td><td>1.0</td><td>1</td><td>0</td><td>Bool</td></tr><tr><th>23</th><td>education_unknown</td><td>0.0410741</td><td>0</td><td>0.0</td><td>1</td><td>0</td><td>Bool</td></tr><tr><th>24</th><td>default_no</td><td>0.981973</td><td>0</td><td>1.0</td><td>1</td><td>0</td><td>Bool</td></tr><tr><th>25</th><td>housing_yes</td><td>0.555838</td><td>0</td><td>1.0</td><td>1</td><td>0</td><td>Bool</td></tr><tr><th>26</th><td>loan_no</td><td>0.839774</td><td>0</td><td>1.0</td><td>1</td><td>0</td><td>Bool</td></tr><tr><th>27</th><td>contact_unknown</td><td>0.287983</td><td>0</td><td>0.0</td><td>1</td><td>0</td><td>Bool</td></tr><tr><th>28</th><td>contact_cellular</td><td>0.647741</td><td>0</td><td>1.0</td><td>1</td><td>0</td><td>Bool</td></tr><tr><th>29</th><td>month_may</td><td>0.304483</td><td>0</td><td>0.0</td><td>1</td><td>0</td><td>Bool</td></tr><tr><th>30</th><td>month_jun</td><td>0.118135</td><td>0</td><td>0.0</td><td>1</td><td>0</td><td>Bool</td></tr><tr><th>&vellip;</th><td>&vellip;</td><td>&vellip;</td><td>&vellip;</td><td>&vellip;</td><td>&vellip;</td><td>&vellip;</td><td>&vellip;</td></tr></tbody></table></div>"
      ],
      "text/latex": [
       "\\begin{tabular}{r|ccccccc}\n",
       "\t& variable & mean & min & median & max & nmissing & eltype\\\\\n",
       "\t\\hline\n",
       "\t& Symbol & Float64 & Integer & Float64 & Integer & Int64 & DataType\\\\\n",
       "\t\\hline\n",
       "\t1 & age & 40.9362 & 18 & 39.0 & 95 & 0 & Int64 \\\\\n",
       "\t2 & balance & 1362.27 & -8019 & 448.0 & 102127 & 0 & Int64 \\\\\n",
       "\t3 & day & 15.8064 & 1 & 16.0 & 31 & 0 & Int64 \\\\\n",
       "\t4 & campaign & 2.76384 & 1 & 2.0 & 63 & 0 & Int64 \\\\\n",
       "\t5 & pdays & 40.1978 & -1 & -1.0 & 871 & 0 & Int64 \\\\\n",
       "\t6 & previous & 0.580323 & 0 & 0.0 & 275 & 0 & Int64 \\\\\n",
       "\t7 & y & 0.116985 & 0 & 0.0 & 1 & 0 & Bool \\\\\n",
       "\t8 & job\\_management & 0.209197 & 0 & 0.0 & 1 & 0 & Bool \\\\\n",
       "\t9 & job\\_technician & 0.168034 & 0 & 0.0 & 1 & 0 & Bool \\\\\n",
       "\t10 & job\\_entrepreneur & 0.0328902 & 0 & 0.0 & 1 & 0 & Bool \\\\\n",
       "\t11 & job\\_blue\\_collar & 0.215257 & 0 & 0.0 & 1 & 0 & Bool \\\\\n",
       "\t12 & job\\_unknown & 0.00637013 & 0 & 0.0 & 1 & 0 & Bool \\\\\n",
       "\t13 & job\\_retired & 0.0500763 & 0 & 0.0 & 1 & 0 & Bool \\\\\n",
       "\t14 & job\\_admin & 0.114375 & 0 & 0.0 & 1 & 0 & Bool \\\\\n",
       "\t15 & job\\_services & 0.0918803 & 0 & 0.0 & 1 & 0 & Bool \\\\\n",
       "\t16 & job\\_self\\_employed & 0.0349251 & 0 & 0.0 & 1 & 0 & Bool \\\\\n",
       "\t17 & job\\_unemployed & 0.0288204 & 0 & 0.0 & 1 & 0 & Bool \\\\\n",
       "\t18 & job\\_housemaid & 0.027427 & 0 & 0.0 & 1 & 0 & Bool \\\\\n",
       "\t19 & marital\\_married & 0.601933 & 0 & 1.0 & 1 & 0 & Bool \\\\\n",
       "\t20 & marital\\_single & 0.282896 & 0 & 0.0 & 1 & 0 & Bool \\\\\n",
       "\t21 & education\\_tertiary & 0.294198 & 0 & 0.0 & 1 & 0 & Bool \\\\\n",
       "\t22 & education\\_secondary & 0.513194 & 0 & 1.0 & 1 & 0 & Bool \\\\\n",
       "\t23 & education\\_unknown & 0.0410741 & 0 & 0.0 & 1 & 0 & Bool \\\\\n",
       "\t24 & default\\_no & 0.981973 & 0 & 1.0 & 1 & 0 & Bool \\\\\n",
       "\t25 & housing\\_yes & 0.555838 & 0 & 1.0 & 1 & 0 & Bool \\\\\n",
       "\t26 & loan\\_no & 0.839774 & 0 & 1.0 & 1 & 0 & Bool \\\\\n",
       "\t27 & contact\\_unknown & 0.287983 & 0 & 0.0 & 1 & 0 & Bool \\\\\n",
       "\t28 & contact\\_cellular & 0.647741 & 0 & 1.0 & 1 & 0 & Bool \\\\\n",
       "\t29 & month\\_may & 0.304483 & 0 & 0.0 & 1 & 0 & Bool \\\\\n",
       "\t30 & month\\_jun & 0.118135 & 0 & 0.0 & 1 & 0 & Bool \\\\\n",
       "\t$\\dots$ & $\\dots$ & $\\dots$ & $\\dots$ & $\\dots$ & $\\dots$ & $\\dots$ & $\\dots$ \\\\\n",
       "\\end{tabular}\n"
      ],
      "text/plain": [
       "\u001b[1m42×7 DataFrame\u001b[0m\n",
       "\u001b[1m Row \u001b[0m│\u001b[1m variable         \u001b[0m\u001b[1m mean          \u001b[0m\u001b[1m min     \u001b[0m\u001b[1m median  \u001b[0m\u001b[1m max     \u001b[0m\u001b[1m nmissing \u001b[0m\u001b[1m e\u001b[0m ⋯\n",
       "\u001b[1m     \u001b[0m│\u001b[90m Symbol           \u001b[0m\u001b[90m Float64       \u001b[0m\u001b[90m Integer \u001b[0m\u001b[90m Float64 \u001b[0m\u001b[90m Integer \u001b[0m\u001b[90m Int64    \u001b[0m\u001b[90m D\u001b[0m ⋯\n",
       "─────┼──────────────────────────────────────────────────────────────────────────\n",
       "   1 │ age                 40.9362           18     39.0       95         0  I ⋯\n",
       "   2 │ balance           1362.27          -8019    448.0   102127         0  I\n",
       "   3 │ day                 15.8064            1     16.0       31         0  I\n",
       "   4 │ campaign             2.76384           1      2.0       63         0  I\n",
       "   5 │ pdays               40.1978           -1     -1.0      871         0  I ⋯\n",
       "   6 │ previous             0.580323          0      0.0      275         0  I\n",
       "   7 │ y                    0.116985      false      0.0     true         0  B\n",
       "   8 │ job_management       0.209197      false      0.0     true         0  B\n",
       "   9 │ job_technician       0.168034      false      0.0     true         0  B ⋯\n",
       "  10 │ job_entrepreneur     0.0328902     false      0.0     true         0  B\n",
       "  11 │ job_blue_collar      0.215257      false      0.0     true         0  B\n",
       "  ⋮  │        ⋮                ⋮           ⋮        ⋮        ⋮        ⋮        ⋱\n",
       "  33 │ month_oct            0.0163235     false      0.0     true         0  B\n",
       "  34 │ month_nov            0.0878105     false      0.0     true         0  B ⋯\n",
       "  35 │ month_dec            0.00473336    false      0.0     true         0  B\n",
       "  36 │ month_jan            0.0310323     false      0.0     true         0  B\n",
       "  37 │ month_feb            0.0585919     false      0.0     true         0  B\n",
       "  38 │ month_mar            0.0105505     false      0.0     true         0  B ⋯\n",
       "  39 │ month_apr            0.0648515     false      0.0     true         0  B\n",
       "  40 │ poutcome_unknown     0.817478      false      1.0     true         0  B\n",
       "  41 │ poutcome_failure     0.108403      false      0.0     true         0  B\n",
       "  42 │ poutcome_other       0.0406981     false      0.0     true         0  B ⋯\n",
       "\u001b[36m                                                    1 column and 21 rows omitted\u001b[0m"
      ]
     },
     "execution_count": 29,
     "metadata": {},
     "output_type": "execute_result"
    }
   ],
   "source": [
    "# dataset with n-1 dummy variables\n",
    "\n",
    "# For One-Hot-Encoding\n",
    "\n",
    "# Remove duration\n",
    "data_dummy = copy(bank_full[:, Not(:duration)])\n",
    "\n",
    "# transform :y in 0/1\n",
    "transform!(data_dummy, @. :y => ByRow(x -> x == \"yes\") => :y)\n",
    "\n",
    "# Getting the column which of type String\n",
    "cat_val = names(select(data_dummy, findall(col -> eltype(col) <: AbstractString, eachcol(data_dummy[:, Not(:y)]))))\n",
    "\n",
    "left_aside = []\n",
    "\n",
    "for val in cat_val\n",
    "    temp = unique(data_dummy[:, val])\n",
    "    ux = temp[1:length(temp)-1]\n",
    "    append!(left_aside, temp[end])\n",
    "    \n",
    "    transform!(data_dummy, @. Symbol($val) => ByRow(isequal(ux)) .=> Symbol($val, \"_\", ux))\n",
    "end\n",
    "# data_one_hot_encoding = data_one_hot_encoding[:, Not(cat_val)]\n",
    "\n",
    "rename!(data_dummy,Symbol(\"job_admin.\") => :job_admin)\n",
    "rename!(data_dummy,Symbol(\"job_blue-collar\") => :job_blue_collar)\n",
    "rename!(data_dummy,Symbol(\"job_self-employed\") => :job_self_employed)\n",
    "\n",
    "# deleting original columns to keep only One-Hot-Encoding\n",
    "select!(data_dummy, Not(cat_val)) \n",
    "\n",
    "describe(data_dummy)"
   ]
  },
  {
   "cell_type": "code",
   "execution_count": 30,
   "id": "athletic-hampshire",
   "metadata": {},
   "outputs": [],
   "source": [
    "# Splitting in training and testing sets (in DataFrame type)\n",
    "sample = randsubseq(1:size(data_dummy,1), 0.8)\n",
    "df_train_dummy = data_dummy[sample, :]\n",
    "\n",
    "notsample = [i for i in 1:size(data_dummy,1) if isempty(searchsorted(sample, i))]\n",
    "df_test_dummy = data_dummy[notsample, :];\n",
    "\n",
    "# Creating feature matrix and target vectors (Matrix and vector forms)\n",
    "N_train_dummy, n_features_dummy = size(df_train_dummy[:, Not(:y)])\n",
    "N_test_dummy, _ = size(df_test_dummy[:, Not(:y)])\n",
    "\n",
    "X_train_dummy = Matrix{Float64}(df_train_dummy[:, Not(:y)])\n",
    "y_train_dummy = convert(Array, df_train_dummy[:, :y])\n",
    "@assert N_train_dummy == size(X_train_dummy, 1)\n",
    "\n",
    "X_test_dummy = Matrix{Float64}(df_test_dummy[: , Not(:y)])\n",
    "y_test_dummy = convert(Array, df_test_dummy[:,:y]);\n",
    "@assert N_test_dummy == size(X_test_dummy, 1)"
   ]
  },
  {
   "cell_type": "code",
   "execution_count": 31,
   "id": "compliant-batch",
   "metadata": {},
   "outputs": [
    {
     "name": "stdout",
     "output_type": "stream",
     "text": [
      "size(X_train_dummy) = (36211, 41)\n",
      "size(X_test_dummy) = (9000, 41)\n"
     ]
    }
   ],
   "source": [
    "@show size(X_train_dummy)\n",
    "@show size(X_test_dummy);"
   ]
  },
  {
   "cell_type": "code",
   "execution_count": 34,
   "id": "personal-norfolk",
   "metadata": {},
   "outputs": [],
   "source": [
    "dt = fit(ZScoreTransform, X_train_dummy, dims=1)\n",
    "\n",
    "X_train_scaled = StatsBase.transform(dt, X_train_dummy)\n",
    "X_test_scaled = StatsBase.transform(dt, X_test_dummy);"
   ]
  },
  {
   "cell_type": "code",
   "execution_count": 35,
   "id": "honest-hours",
   "metadata": {},
   "outputs": [
    {
     "name": "stdout",
     "output_type": "stream",
     "text": [
      "size(X_train_scaled) = (36211, 41)\n",
      "size(X_test_scaled) = (9000, 41)\n"
     ]
    }
   ],
   "source": [
    "@show size(X_train_scaled)\n",
    "@show size(X_test_scaled);"
   ]
  },
  {
   "cell_type": "code",
   "execution_count": 38,
   "id": "miniature-flesh",
   "metadata": {
    "collapsed": true
   },
   "outputs": [
    {
     "data": {
      "text/html": [
       "<div class=\"data-frame\"><p>42 rows × 7 columns</p><table class=\"data-frame\"><thead><tr><th></th><th>variable</th><th>mean</th><th>min</th><th>median</th><th>max</th><th>nmissing</th><th>eltype</th></tr><tr><th></th><th title=\"Symbol\">Symbol</th><th title=\"Float64\">Float64</th><th title=\"Real\">Real</th><th title=\"Float64\">Float64</th><th title=\"Real\">Real</th><th title=\"Int64\">Int64</th><th title=\"DataType\">DataType</th></tr></thead><tbody><tr><th>1</th><td>age</td><td>0.0122956</td><td>-2.06785</td><td>-0.180289</td><td>5.1049</td><td>0</td><td>Float64</td></tr><tr><th>2</th><td>balance</td><td>-0.00863333</td><td>-2.71013</td><td>-0.301376</td><td>33.2427</td><td>0</td><td>Float64</td></tr><tr><th>3</th><td>day</td><td>0.000503978</td><td>-1.7792</td><td>0.0233632</td><td>1.82593</td><td>0</td><td>Float64</td></tr><tr><th>4</th><td>campaign</td><td>0.00850505</td><td>-0.56915</td><td>-0.245514</td><td>13.3472</td><td>0</td><td>Float64</td></tr><tr><th>5</th><td>pdays</td><td>-0.00115382</td><td>-0.410859</td><td>-0.410859</td><td>8.07128</td><td>0</td><td>Float64</td></tr><tr><th>6</th><td>previous</td><td>-0.00581877</td><td>-0.242373</td><td>-0.242373</td><td>14.3056</td><td>0</td><td>Float64</td></tr><tr><th>7</th><td>job_management</td><td>-0.018971</td><td>-0.516718</td><td>-0.516718</td><td>1.93524</td><td>0</td><td>Float64</td></tr><tr><th>8</th><td>job_technician</td><td>0.0147649</td><td>-0.447645</td><td>-0.447645</td><td>2.23385</td><td>0</td><td>Float64</td></tr><tr><th>9</th><td>job_entrepreneur</td><td>-0.00929813</td><td>-0.185372</td><td>-0.185372</td><td>5.39442</td><td>0</td><td>Float64</td></tr><tr><th>10</th><td>job_blue_collar</td><td>0.0124031</td><td>-0.522162</td><td>-0.522162</td><td>1.91506</td><td>0</td><td>Float64</td></tr><tr><th>11</th><td>job_unknown</td><td>-0.00231454</td><td>-0.0802996</td><td>-0.0802996</td><td>12.453</td><td>0</td><td>Float64</td></tr><tr><th>12</th><td>job_retired</td><td>0.0104206</td><td>-0.228508</td><td>-0.228508</td><td>4.3761</td><td>0</td><td>Float64</td></tr><tr><th>13</th><td>job_admin</td><td>-0.014496</td><td>-0.360997</td><td>-0.360997</td><td>2.77003</td><td>0</td><td>Float64</td></tr><tr><th>14</th><td>job_services</td><td>-0.00140307</td><td>-0.318232</td><td>-0.318232</td><td>3.14228</td><td>0</td><td>Float64</td></tr><tr><th>15</th><td>job_self_employed</td><td>0.00277994</td><td>-0.189945</td><td>-0.189945</td><td>5.26454</td><td>0</td><td>Float64</td></tr><tr><th>16</th><td>job_unemployed</td><td>-0.0028014</td><td>-0.172551</td><td>-0.172551</td><td>5.79522</td><td>0</td><td>Float64</td></tr><tr><th>17</th><td>job_housemaid</td><td>0.00524586</td><td>-0.167391</td><td>-0.167391</td><td>5.97386</td><td>0</td><td>Float64</td></tr><tr><th>18</th><td>marital_married</td><td>0.00413741</td><td>-1.22864</td><td>0.813885</td><td>0.813885</td><td>0</td><td>Float64</td></tr><tr><th>19</th><td>marital_single</td><td>0.00152119</td><td>-0.62787</td><td>-0.62787</td><td>1.59264</td><td>0</td><td>Float64</td></tr><tr><th>20</th><td>education_tertiary</td><td>-0.00784426</td><td>-0.646721</td><td>-0.646721</td><td>1.54622</td><td>0</td><td>Float64</td></tr><tr><th>21</th><td>education_secondary</td><td>-0.0057574</td><td>-1.02791</td><td>0.972822</td><td>0.972822</td><td>0</td><td>Float64</td></tr><tr><th>22</th><td>education_unknown</td><td>0.00936029</td><td>-0.20599</td><td>-0.20599</td><td>4.85447</td><td>0</td><td>Float64</td></tr><tr><th>23</th><td>default_no</td><td>0.0126458</td><td>-7.31103</td><td>0.136776</td><td>0.136776</td><td>0</td><td>Float64</td></tr><tr><th>24</th><td>housing_yes</td><td>0.00654799</td><td>-1.11719</td><td>0.895076</td><td>0.895076</td><td>0</td><td>Float64</td></tr><tr><th>25</th><td>loan_no</td><td>-0.00604319</td><td>-2.29308</td><td>0.436082</td><td>0.436082</td><td>0</td><td>Float64</td></tr><tr><th>26</th><td>contact_unknown</td><td>0.00556413</td><td>-0.635186</td><td>-0.635186</td><td>1.5743</td><td>0</td><td>Float64</td></tr><tr><th>27</th><td>contact_cellular</td><td>-0.00484136</td><td>-1.35738</td><td>0.736693</td><td>0.736693</td><td>0</td><td>Float64</td></tr><tr><th>28</th><td>month_may</td><td>0.00954847</td><td>-0.660275</td><td>-0.660275</td><td>1.51448</td><td>0</td><td>Float64</td></tr><tr><th>29</th><td>month_jun</td><td>0.00119745</td><td>-0.365866</td><td>-0.365866</td><td>2.73317</td><td>0</td><td>Float64</td></tr><tr><th>30</th><td>month_jul</td><td>0.0156501</td><td>-0.422366</td><td>-0.422366</td><td>2.36755</td><td>0</td><td>Float64</td></tr><tr><th>&vellip;</th><td>&vellip;</td><td>&vellip;</td><td>&vellip;</td><td>&vellip;</td><td>&vellip;</td><td>&vellip;</td><td>&vellip;</td></tr></tbody></table></div>"
      ],
      "text/latex": [
       "\\begin{tabular}{r|ccccccc}\n",
       "\t& variable & mean & min & median & max & nmissing & eltype\\\\\n",
       "\t\\hline\n",
       "\t& Symbol & Float64 & Real & Float64 & Real & Int64 & DataType\\\\\n",
       "\t\\hline\n",
       "\t1 & age & 0.0122956 & -2.06785 & -0.180289 & 5.1049 & 0 & Float64 \\\\\n",
       "\t2 & balance & -0.00863333 & -2.71013 & -0.301376 & 33.2427 & 0 & Float64 \\\\\n",
       "\t3 & day & 0.000503978 & -1.7792 & 0.0233632 & 1.82593 & 0 & Float64 \\\\\n",
       "\t4 & campaign & 0.00850505 & -0.56915 & -0.245514 & 13.3472 & 0 & Float64 \\\\\n",
       "\t5 & pdays & -0.00115382 & -0.410859 & -0.410859 & 8.07128 & 0 & Float64 \\\\\n",
       "\t6 & previous & -0.00581877 & -0.242373 & -0.242373 & 14.3056 & 0 & Float64 \\\\\n",
       "\t7 & job\\_management & -0.018971 & -0.516718 & -0.516718 & 1.93524 & 0 & Float64 \\\\\n",
       "\t8 & job\\_technician & 0.0147649 & -0.447645 & -0.447645 & 2.23385 & 0 & Float64 \\\\\n",
       "\t9 & job\\_entrepreneur & -0.00929813 & -0.185372 & -0.185372 & 5.39442 & 0 & Float64 \\\\\n",
       "\t10 & job\\_blue\\_collar & 0.0124031 & -0.522162 & -0.522162 & 1.91506 & 0 & Float64 \\\\\n",
       "\t11 & job\\_unknown & -0.00231454 & -0.0802996 & -0.0802996 & 12.453 & 0 & Float64 \\\\\n",
       "\t12 & job\\_retired & 0.0104206 & -0.228508 & -0.228508 & 4.3761 & 0 & Float64 \\\\\n",
       "\t13 & job\\_admin & -0.014496 & -0.360997 & -0.360997 & 2.77003 & 0 & Float64 \\\\\n",
       "\t14 & job\\_services & -0.00140307 & -0.318232 & -0.318232 & 3.14228 & 0 & Float64 \\\\\n",
       "\t15 & job\\_self\\_employed & 0.00277994 & -0.189945 & -0.189945 & 5.26454 & 0 & Float64 \\\\\n",
       "\t16 & job\\_unemployed & -0.0028014 & -0.172551 & -0.172551 & 5.79522 & 0 & Float64 \\\\\n",
       "\t17 & job\\_housemaid & 0.00524586 & -0.167391 & -0.167391 & 5.97386 & 0 & Float64 \\\\\n",
       "\t18 & marital\\_married & 0.00413741 & -1.22864 & 0.813885 & 0.813885 & 0 & Float64 \\\\\n",
       "\t19 & marital\\_single & 0.00152119 & -0.62787 & -0.62787 & 1.59264 & 0 & Float64 \\\\\n",
       "\t20 & education\\_tertiary & -0.00784426 & -0.646721 & -0.646721 & 1.54622 & 0 & Float64 \\\\\n",
       "\t21 & education\\_secondary & -0.0057574 & -1.02791 & 0.972822 & 0.972822 & 0 & Float64 \\\\\n",
       "\t22 & education\\_unknown & 0.00936029 & -0.20599 & -0.20599 & 4.85447 & 0 & Float64 \\\\\n",
       "\t23 & default\\_no & 0.0126458 & -7.31103 & 0.136776 & 0.136776 & 0 & Float64 \\\\\n",
       "\t24 & housing\\_yes & 0.00654799 & -1.11719 & 0.895076 & 0.895076 & 0 & Float64 \\\\\n",
       "\t25 & loan\\_no & -0.00604319 & -2.29308 & 0.436082 & 0.436082 & 0 & Float64 \\\\\n",
       "\t26 & contact\\_unknown & 0.00556413 & -0.635186 & -0.635186 & 1.5743 & 0 & Float64 \\\\\n",
       "\t27 & contact\\_cellular & -0.00484136 & -1.35738 & 0.736693 & 0.736693 & 0 & Float64 \\\\\n",
       "\t28 & month\\_may & 0.00954847 & -0.660275 & -0.660275 & 1.51448 & 0 & Float64 \\\\\n",
       "\t29 & month\\_jun & 0.00119745 & -0.365866 & -0.365866 & 2.73317 & 0 & Float64 \\\\\n",
       "\t30 & month\\_jul & 0.0156501 & -0.422366 & -0.422366 & 2.36755 & 0 & Float64 \\\\\n",
       "\t$\\dots$ & $\\dots$ & $\\dots$ & $\\dots$ & $\\dots$ & $\\dots$ & $\\dots$ & $\\dots$ \\\\\n",
       "\\end{tabular}\n"
      ],
      "text/plain": [
       "\u001b[1m42×7 DataFrame\u001b[0m\n",
       "\u001b[1m Row \u001b[0m│\u001b[1m variable         \u001b[0m\u001b[1m mean         \u001b[0m\u001b[1m min           \u001b[0m\u001b[1m median     \u001b[0m\u001b[1m max         \u001b[0m\u001b[1m\u001b[0m ⋯\n",
       "\u001b[1m     \u001b[0m│\u001b[90m Symbol           \u001b[0m\u001b[90m Float64      \u001b[0m\u001b[90m Real          \u001b[0m\u001b[90m Float64    \u001b[0m\u001b[90m Real        \u001b[0m\u001b[90m\u001b[0m ⋯\n",
       "─────┼──────────────────────────────────────────────────────────────────────────\n",
       "   1 │ age                0.0122956       -2.06785    -0.180289      5.1049    ⋯\n",
       "   2 │ balance           -0.00863333      -2.71013    -0.301376     33.2427\n",
       "   3 │ day                0.000503978     -1.7792      0.0233632     1.82593\n",
       "   4 │ campaign           0.00850505      -0.56915    -0.245514     13.3472\n",
       "   5 │ pdays             -0.00115382      -0.410859   -0.410859      8.07128   ⋯\n",
       "   6 │ previous          -0.00581877      -0.242373   -0.242373     14.3056\n",
       "   7 │ job_management    -0.018971        -0.516718   -0.516718      1.93524\n",
       "   8 │ job_technician     0.0147649       -0.447645   -0.447645      2.23385\n",
       "   9 │ job_entrepreneur  -0.00929813      -0.185372   -0.185372      5.39442   ⋯\n",
       "  10 │ job_blue_collar    0.0124031       -0.522162   -0.522162      1.91506\n",
       "  11 │ job_unknown       -0.00231454      -0.0802996  -0.0802996    12.453\n",
       "  ⋮  │        ⋮               ⋮              ⋮            ⋮            ⋮       ⋱\n",
       "  33 │ month_nov         -0.0196388       -0.312409   -0.312409      3.20084\n",
       "  34 │ month_dec          0.00488442      -0.0684751  -0.0684751    14.6034    ⋯\n",
       "  35 │ month_jan         -0.00422278      -0.17939    -0.17939       5.57429\n",
       "  36 │ month_feb          0.00869495      -0.248556   -0.248556      4.02313\n",
       "  37 │ month_mar         -0.0133453       -0.104612   -0.104612      9.5589\n",
       "  38 │ month_apr         -0.013826        -0.264814   -0.264814      3.77613   ⋯\n",
       "  39 │ poutcome_unknown  -0.00190489      -2.11733     0.472281      0.472281\n",
       "  40 │ poutcome_failure   0.00374043      -0.348265   -0.348265      2.8713\n",
       "  41 │ poutcome_other    -0.00090008      -0.206063   -0.206063      4.85275\n",
       "  42 │ y                  0.115        false           0.0        true         ⋯\n",
       "\u001b[36m                                                   2 columns and 21 rows omitted\u001b[0m"
      ]
     },
     "execution_count": 38,
     "metadata": {},
     "output_type": "execute_result"
    }
   ],
   "source": [
    "# Dataframe scaled\n",
    "all_names = DataFrames.names(data_dummy[:, Not(:y)])\n",
    "\n",
    "df_train_scaled = DataFrame(X_train_scaled, all_names)\n",
    "df_train_scaled.y = y_train_dummy\n",
    "df_test_scaled = DataFrame(X_test_scaled, all_names)\n",
    "df_test_scaled.y = y_test_dummy\n",
    "\n",
    "describe(df_test_scaled)"
   ]
  },
  {
   "cell_type": "markdown",
   "id": "attempted-seller",
   "metadata": {},
   "source": [
    "## Creation Model"
   ]
  },
  {
   "cell_type": "code",
   "execution_count": 6,
   "id": "first-publicity",
   "metadata": {},
   "outputs": [],
   "source": [
    "struct Model_Binary_LR{U <: IsUpdatable, T} <: Sofia.AbstractStochasticModel{U}\n",
    "    X_train::Array{T,2} # matrix of sample training features (N_train x n_features)\n",
    "    y_train::Array\n",
    "    \n",
    "    X_test::Array{T,2} # matrix of sample testing features (N_test x n_features)\n",
    "    y_test::Array\n",
    "    \n",
    "    intercept::Bool # if we add intercept β_0\n",
    "    \n",
    "    n_features::Int # number of features in train set\n",
    "    dim::Int # parameter vector  dimension\n",
    "    \n",
    "    N_train::Int # number samples for training\n",
    "    N_test::Int # number samples for testing\n",
    "    \n",
    "    function Model_Binary_LR(X_train::Array{T,2}, y_train::Array, X_test::Array{T,2}, y_test::Array, intercept::Bool = true, upd::Bool = false) where T\n",
    "        UPD = upd ? Updatable : NotUpdatable\n",
    "        N_train, n_features = size(X_train)\n",
    "        N_test, _ = size(X_test)\n",
    "        \n",
    "        if intercept\n",
    "            dim = n_features + 1\n",
    "        else\n",
    "            dim = n_features\n",
    "        end\n",
    "        return new{UPD, T}(X_train, y_train, X_test, y_test, intercept, n_features, dim, N_train, N_test)\n",
    "    end\n",
    "end"
   ]
  },
  {
   "cell_type": "code",
   "execution_count": 40,
   "id": "eleven-calibration",
   "metadata": {},
   "outputs": [
    {
     "data": {
      "text/plain": [
       "Model_Binary_LR{NotUpdatable,Float64}([0.2916028418888952 -0.441592801619183 … -0.34826503019701244 -0.20606304366129194; -0.7465582169411824 -0.4505006634390468 … -0.34826503019701244 -0.20606304366129194; … ; 1.518520456869896 -0.23077340521574002 … -0.34826503019701244 -0.20606304366129194; -0.36904510463933604 0.5290342159378268 … -0.34826503019701244 4.852749752283821], Bool[0, 0, 0, 0, 0, 0, 0, 0, 0, 0  …  1, 1, 1, 1, 1, 1, 1, 1, 0, 0], [1.6128987349453576 0.25585978679533733 … -0.34826503019701244 -0.20606304366129194; -0.5578016607902593 -0.3749487983742762 … -0.34826503019701244 -0.20606304366129194; … ; -1.5015844415448754 -0.33304885574010207 … -0.34826503019701244 -0.20606304366129194; 2.93419462800182 1.4343369134825024 … -0.34826503019701244 -0.20606304366129194], Bool[0, 0, 0, 0, 0, 0, 0, 0, 0, 0  …  0, 1, 0, 0, 1, 1, 0, 0, 1, 1], true, 41, 42, 36211, 9000)"
      ]
     },
     "execution_count": 40,
     "metadata": {},
     "output_type": "execute_result"
    }
   ],
   "source": [
    "mo_BinLR = Model_Binary_LR(X_train_scaled, y_train_dummy, X_test_scaled, y_test_dummy)"
   ]
  },
  {
   "cell_type": "code",
   "execution_count": 41,
   "id": "compliant-generator",
   "metadata": {},
   "outputs": [
    {
     "data": {
      "text/plain": [
       "3-element Array{Float64,1}:\n",
       " 0.7310585786300049\n",
       " 0.8807970779778823\n",
       " 0.9525741268224334"
      ]
     },
     "execution_count": 41,
     "metadata": {},
     "output_type": "execute_result"
    }
   ],
   "source": [
    "# Sigmoid function for probability calculations\n",
    "function my_sigmoid(x)\n",
    "   return 1/(1 + exp(-x)) \n",
    "end\n",
    "\n",
    "# test\n",
    "x = [1.0 ; 2.0 ; 3.0]\n",
    "my_sigmoid.(x)"
   ]
  },
  {
   "cell_type": "code",
   "execution_count": 42,
   "id": "rapid-glenn",
   "metadata": {},
   "outputs": [
    {
     "data": {
      "text/plain": [
       "Hessian_LR! (generic function with 1 method)"
      ]
     },
     "execution_count": 42,
     "metadata": {},
     "output_type": "execute_result"
    }
   ],
   "source": [
    "function proba_LR(β::AbstractArray , X::Matrix; intercept::Bool=true)\n",
    "    \"\"\"\n",
    "    β: parameter vector\n",
    "    X: feature matrix of dimension Nxp\n",
    "    \"\"\"\n",
    "    if intercept\n",
    "        N = size(X, 1)\n",
    "        return my_sigmoid.(hcat(ones(N), X)*β)\n",
    "    else\n",
    "        return my_sigmoid.(X*β)\n",
    "    end\n",
    "end\n",
    "\n",
    "\n",
    "function LR_loss(β::AbstractArray, X::Matrix, y::Vector; intercept::Bool = true, ϵ::Float64=1e-15)\n",
    "    \"\"\"\n",
    "    β: parameter vector\n",
    "    X: feature matrix (Nxp)\n",
    "    y: target vector (N)\n",
    "    intercept: β_0 or not\n",
    "    ϵ: to avoid log(0)\n",
    "    \"\"\"\n",
    "    N = size(X, 1) \n",
    "    \n",
    "    @assert N == size(y, 1)\n",
    "    \n",
    "    p = clamp.(proba_LR(β, X; intercept = intercept), ϵ, 1-ϵ)\n",
    "    \n",
    "    loss = 0.0\n",
    "    for i=1:N\n",
    "       if y[i]\n",
    "            loss += log(p[i])\n",
    "        else\n",
    "            loss += log(1 - p[i])\n",
    "        end\n",
    "    end\n",
    "    \n",
    "    return -(1/N)*loss\n",
    "end\n",
    "\n",
    "function LR_loss_inds(β::AbstractArray{T}, X::Matrix, y::Vector; intercept::Bool = true, ϵ::Float64=1e-15) where T\n",
    "    \"\"\"\n",
    "    β: parameter vector\n",
    "    X: feature matrix (Nxp)\n",
    "    y: target vector (N)\n",
    "    intercept: β_0 or not\n",
    "    ϵ: to avoid log(0)\n",
    "    \"\"\"\n",
    "    N = size(X, 1) \n",
    "    \n",
    "    @assert N == size(y, 1)\n",
    "    \n",
    "    p = clamp.(proba_LR(β, X; intercept = intercept), ϵ, 1-ϵ)\n",
    "    \n",
    "    losses = zeros(T, N)\n",
    "    for i=1:N\n",
    "       if y[i]\n",
    "            losses[i] += log(p[i])\n",
    "        else\n",
    "            losses[i] += log(1 - p[i])\n",
    "        end\n",
    "    end\n",
    "    \n",
    "    return -losses\n",
    "end\n",
    "\n",
    "function grad_LR(β::AbstractArray, X::Matrix, y::Vector; intercept::Bool = true, ϵ::Float64=1e-8) \n",
    "    \"\"\"\n",
    "    β: parameter vector\n",
    "    X: feature matrix (Nxp)\n",
    "    y: target vector (N)\n",
    "    intercept: β_0 or not\n",
    "    ϵ: to avoid log(0)\n",
    "    \"\"\"\n",
    "    N = size(X, 1) \n",
    "    \n",
    "    @assert N == size(y, 1)\n",
    "    \n",
    "    p = proba_LR(β, X;  intercept = intercept)\n",
    "    \n",
    "    if intercept \n",
    "        # add row of 1 for bias term\n",
    "        X_temp = hcat(ones(N), X) \n",
    "    else\n",
    "        X_temp = X\n",
    "    end \n",
    "    return (1/N)*transpose(X_temp)*( p .- y )\n",
    "end\n",
    "\n",
    "function grad_LR!(G, β::AbstractArray, X::Matrix, y::Vector; intercept::Bool = true) \n",
    "    \"\"\"\n",
    "    β: parameter vector\n",
    "    X: feature matrix (Nxp)\n",
    "    y: target vector (N)\n",
    "    intercept: β_0 or not\n",
    "    ϵ: to avoid log(0)\n",
    "    \"\"\"\n",
    "    N = size(X, 1) \n",
    "    \n",
    "    @assert N == size(y, 1)\n",
    "    \n",
    "    p = proba_LR(β, X;  intercept = intercept)\n",
    "    \n",
    "    if intercept \n",
    "        # add row of 1 for bias term\n",
    "        X_temp = hcat(ones(N), X) \n",
    "    else\n",
    "        X_temp = X\n",
    "    end \n",
    "    G[:] = (1/N)*transpose(X_temp)*( p .- y )\n",
    "end\n",
    "\n",
    "function grad_LR_inds(β::AbstractArray, X::Matrix, y::Vector; intercept::Bool = true, ϵ::Float64=1e-8) \n",
    "    \"\"\"\n",
    "    β: parameter vector\n",
    "    X: feature matrix (Nxp)\n",
    "    y: target vector (N)\n",
    "    intercept: β_0 or not\n",
    "    ϵ: to avoid log(0)\n",
    "    \"\"\"\n",
    "    N = size(X, 1) \n",
    "    \n",
    "    @assert N == size(y, 1)\n",
    "    \n",
    "    p = proba_LR(β, X;  intercept = intercept)\n",
    "    \n",
    "    if intercept \n",
    "        # add row of 1 for bias term\n",
    "        X_temp = hcat(ones(N), X) \n",
    "    else\n",
    "        X_temp = X\n",
    "    end \n",
    "    return transpose(X_temp)*Diagonal( p .- y )\n",
    "end\n",
    "\n",
    "function Hessian_LR(β::Array, X::Matrix, y::Vector; intercept::Bool = true) \n",
    "    \"\"\"\n",
    "    β: parameter vector\n",
    "    X: feature matrix (Nxp)\n",
    "    y: target vector (N)\n",
    "    intercept: β_0 or not\n",
    "    ϵ: to avoid log(0)\n",
    "    \"\"\"\n",
    "    N = size(X, 1) \n",
    "    \n",
    "    @assert N == size(y, 1)\n",
    "    \n",
    "    p = proba_LR(β, X;  intercept = intercept)\n",
    "    \n",
    "    # Diagonal matrix with probas\n",
    "    Diag = Diagonal(p.*(1 .- p))\n",
    "    \n",
    "    if intercept \n",
    "        # add row of 1 for bias term\n",
    "        X = hcat(ones(N), X) \n",
    "    end \n",
    "    \n",
    "    return (1/N)*transpose(X)*Diag*X\n",
    "end\n",
    "\n",
    "\n",
    "function Hessian_LR!(H, β::Array, X::Matrix, y::Vector; intercept::Bool = true) \n",
    "    \"\"\"\n",
    "    β: parameter vector\n",
    "    X: feature matrix (Nxp)\n",
    "    y: target vector (N)\n",
    "    intercept: β_0 or not\n",
    "    ϵ: to avoid log(0)\n",
    "    \"\"\"\n",
    "    N = size(X, 1) \n",
    "    \n",
    "    @assert N == size(y, 1)\n",
    "    \n",
    "    p = proba_LR(β, X;  intercept = intercept)\n",
    "    \n",
    "    # Diagonal matrix with probas\n",
    "    Diag = Diagonal(p.*(1 .- p))\n",
    "    \n",
    "    if intercept \n",
    "        # add row of 1 for bias term\n",
    "        X = hcat(ones(N), X) \n",
    "    end \n",
    "    \n",
    "    H[:,:] =  (1/N)*transpose(X)*Diag*X\n",
    "end\n",
    "\n",
    "\n",
    "function Hessian_LR_dot_v(β::Array, X::Matrix, y::Vector, v::Vector; intercept::Bool = true) \n",
    "    \"\"\"\n",
    "    β: parameter vector\n",
    "    X: feature matrix (Nxp)\n",
    "    y: target vector (N)\n",
    "    intercept: β_0 or not\n",
    "    ϵ: to avoid log(0)\n",
    "    \"\"\"\n",
    "    N = size(X, 1) \n",
    "    \n",
    "    @assert N == size(y, 1)\n",
    "    \n",
    "    p = proba_LR(β, X;  intercept = intercept)\n",
    "    \n",
    "    # Diagonal matrix with probas\n",
    "    Diag = Diagonal(p.*(1 .- p))\n",
    "    \n",
    "    if intercept \n",
    "        # add row of 1 for bias term\n",
    "        X = hcat(ones(N), X) \n",
    "    end \n",
    "    \n",
    "    return (1/N)*transpose(X)*Diag*X*v\n",
    "end"
   ]
  },
  {
   "cell_type": "code",
   "execution_count": 43,
   "id": "false-carbon",
   "metadata": {},
   "outputs": [
    {
     "data": {
      "text/plain": [
       "36211"
      ]
     },
     "execution_count": 43,
     "metadata": {},
     "output_type": "execute_result"
    }
   ],
   "source": [
    "function Sofia.Nobs(mo::Model_Binary_LR)\n",
    "   return mo.N_train\n",
    "end\n",
    "\n",
    "Sofia.Nobs(mo_BinLR)"
   ]
  },
  {
   "cell_type": "code",
   "execution_count": 44,
   "id": "injured-castle",
   "metadata": {},
   "outputs": [
    {
     "data": {
      "text/plain": [
       "100"
      ]
     },
     "execution_count": 44,
     "metadata": {},
     "output_type": "execute_result"
    }
   ],
   "source": [
    "beta = rand(mo_BinLR.dim) .* 0.01\n",
    "\n",
    "N = 100"
   ]
  },
  {
   "cell_type": "code",
   "execution_count": 45,
   "id": "abandoned-winning",
   "metadata": {},
   "outputs": [
    {
     "name": "stdout",
     "output_type": "stream",
     "text": [
      "F(beta, mo_BinLR) = 0.6928696508999896\n",
      "mean(Sofia.Fs(beta, mo_BinLR)) - F(beta, mo_BinLR) = 1.2212453270876722e-15\n"
     ]
    },
    {
     "data": {
      "text/plain": [
       "2-element Array{Float64,1}:\n",
       " 0.6757969975963907\n",
       " 0.6752224557131544"
      ]
     },
     "execution_count": 45,
     "metadata": {},
     "output_type": "execute_result"
    }
   ],
   "source": [
    "# definition F \n",
    "function Sofia.F(x::Array{T,1}, mo::Model_Binary_LR ; sample = 1:Nobs(mo)) where T\n",
    "   return LR_loss(x, mo.X_train[sample, :], mo.y_train[sample]; intercept = mo.intercept)\n",
    "end\n",
    "\n",
    "@show F(beta, mo_BinLR)\n",
    "\n",
    "# definition \n",
    "function Sofia.Fs(x::Array{T,1}, mo::Model_Binary_LR ; sample = 1:Nobs(mo)) where T\n",
    "   return LR_loss_inds(x, mo.X_train[sample, :], mo.y_train[sample]; intercept = mo.intercept)\n",
    "end\n",
    "\n",
    "@show mean(Sofia.Fs(beta, mo_BinLR)) - F(beta, mo_BinLR)\n",
    "\n",
    "Sofia.Fs(beta, mo_BinLR; sample = 1:2)"
   ]
  },
  {
   "cell_type": "code",
   "execution_count": 46,
   "id": "subtle-vulnerability",
   "metadata": {},
   "outputs": [],
   "source": [
    "# ------------------- gradient -----------------------\n",
    "function Sofia.grad!(x::Vector, mo::Model_Binary_LR, stack::Vector ; sample=1:Nobs(mo))\n",
    "    stack[:] = grad_LR(x, mo.X_train[sample, :], mo.y_train[sample]; intercept = mo.intercept)[:]\n",
    "end\n",
    "\n",
    "function Sofia.grad(x::Vector, mo::Model_Binary_LR ; sample=1:Nobs(mo))\n",
    "    return grad_LR(x, mo.X_train[sample, :], mo.y_train[sample]; intercept = mo.intercept) \n",
    "end\n",
    "\n",
    "function Sofia.grads(x::Vector, mo::Model_Binary_LR ; sample=1:Nobs(mo))\n",
    "    return grad_LR_inds(x, mo.X_train[sample, :], mo.y_train[sample]; intercept = mo.intercept) \n",
    "end\n",
    "\n",
    "function Sofia.grads!(x::Vector, mo::Model_Binary_LR, stack::Array{Vector, 1}; sample=1:Nobs(mo))\n",
    "    result = grad_LR_inds(x, mo.X_train[sample, :], mo.y_train[sample]; intercept = mo.intercept)\n",
    "    for i in 1:length(sample)\n",
    "        stack[i] = result[:, i]\n",
    "    end\n",
    "end"
   ]
  },
  {
   "cell_type": "code",
   "execution_count": 51,
   "id": "empty-compression",
   "metadata": {},
   "outputs": [
    {
     "name": "stdout",
     "output_type": "stream",
     "text": [
      "norm(ForwardDiff.gradient((t->begin\n",
      "                    #= In[51]:8 =#\n",
      "                    Sofia.F(t, mo_BinLR; sample = 1:N)\n",
      "                end), beta) - stack) = 5.663095056525806e-16\n"
     ]
    },
    {
     "data": {
      "text/plain": [
       "5.663095056525806e-16"
      ]
     },
     "execution_count": 51,
     "metadata": {},
     "output_type": "execute_result"
    }
   ],
   "source": [
    "stack = Array{Float64, 1}(undef, mo_BinLR.dim)\n",
    "Sofia.grad!(beta, mo_BinLR, stack; sample=1:N)\n",
    "\n",
    "# vector stack\n",
    "# show(stdout, \"text/plain\", stack)\n",
    "\n",
    "# diff with forward diff\n",
    "@show norm(ForwardDiff.gradient(t -> Sofia.F(t, mo_BinLR ; sample=1:N), beta) - stack)\n",
    "\n",
    "# diff with forward diff\n",
    "norm(ForwardDiff.gradient(t -> Sofia.F(t, mo_BinLR ; sample=1:N), beta) - Sofia.grad(beta, mo_BinLR;sample=1:N))"
   ]
  },
  {
   "cell_type": "code",
   "execution_count": 57,
   "id": "celtic-friendly",
   "metadata": {},
   "outputs": [
    {
     "data": {
      "text/plain": [
       "6.574670630195574e-16"
      ]
     },
     "execution_count": 57,
     "metadata": {},
     "output_type": "execute_result"
    }
   ],
   "source": [
    "# ----------------- Hessian ---------------------------\n",
    "\n",
    "function Sofia.H!(x::Vector, mo::Model_Exp, stack::Matrix; sample=1:Nobs(mo))\n",
    "    Hessian_LR!(stack, mo.X_train[sample, :], mo.y_train[sample]; intercept = mo.intercept) \n",
    "end\n",
    "\n",
    "function Sofia.Hdotv(x::Vector, mo::AbstractModel, v::Vector; sample=1:Nobs(mo))\n",
    "    return Hessian_vector_product_SExp(x, mo.samples[sample], v)\n",
    "end\n",
    "\n",
    "function Sofia.Hdotv!(x::Vector, mo::AbstractModel, v::Vector, stack::Vector; sample=1:Nobs(mo))\n",
    "    stack[:] = Hdotv(x, mo, v; sample = sample)\n",
    "end"
   ]
  },
  {
   "cell_type": "code",
   "execution_count": null,
   "id": "broad-yeast",
   "metadata": {},
   "outputs": [],
   "source": []
  }
 ],
 "metadata": {
  "kernelspec": {
   "display_name": "Julia 1.5.3",
   "language": "julia",
   "name": "julia-1.5"
  },
  "language_info": {
   "file_extension": ".jl",
   "mimetype": "application/julia",
   "name": "julia",
   "version": "1.5.3"
  }
 },
 "nbformat": 4,
 "nbformat_minor": 5
}
